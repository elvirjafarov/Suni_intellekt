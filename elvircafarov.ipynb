{
  "nbformat": 4,
  "nbformat_minor": 0,
  "metadata": {
    "colab": {
      "provenance": [],
      "authorship_tag": "ABX9TyNq3qf7YkMw9kXvYL/Vjrsi",
      "include_colab_link": true
    },
    "kernelspec": {
      "name": "python3",
      "display_name": "Python 3"
    },
    "language_info": {
      "name": "python"
    }
  },
  "cells": [
    {
      "cell_type": "markdown",
      "metadata": {
        "id": "view-in-github",
        "colab_type": "text"
      },
      "source": [
        "<a href=\"https://colab.research.google.com/github/elvirjafarov/Suni_intellekt/blob/main/elvircafarov.ipynb\" target=\"_parent\"><img src=\"https://colab.research.google.com/assets/colab-badge.svg\" alt=\"Open In Colab\"/></a>"
      ]
    },
    {
      "cell_type": "markdown",
      "source": [
        "Sprint_1a_task"
      ],
      "metadata": {
        "id": "fgvDgn5bfM1q"
      }
    },
    {
      "cell_type": "markdown",
      "source": [
        "TASK_1A (1-Cİ SUAL) #1) 123 rəqəmini string/character ə çevirin və tipini yoxlayın."
      ],
      "metadata": {
        "id": "zOGWiK0IgKcz"
      }
    },
    {
      "cell_type": "code",
      "source": [
        "a = 123\n",
        "a_str = str(a)\n",
        "print(a_str)\n",
        "print(type(a_str))"
      ],
      "metadata": {
        "colab": {
          "base_uri": "https://localhost:8080/"
        },
        "id": "K8ohs6z2gSa6",
        "outputId": "327faee1-54b3-41bb-8805-c3081ce370ba"
      },
      "execution_count": 4,
      "outputs": [
        {
          "output_type": "stream",
          "name": "stdout",
          "text": [
            "123\n",
            "<class 'str'>\n"
          ]
        }
      ]
    },
    {
      "cell_type": "markdown",
      "source": [
        "TASK_1A (2-Cİ SUAL) 2) 19.99 dəyərini tam ədədə çevirin və nəticəni çap edin.*"
      ],
      "metadata": {
        "id": "KR9msb8EgWXC"
      }
    },
    {
      "cell_type": "code",
      "source": [
        "x = 19.99\n",
        "x_int = int(x)\n",
        "print(x_int)\n"
      ],
      "metadata": {
        "colab": {
          "base_uri": "https://localhost:8080/"
        },
        "id": "IJyKuI4CgeDy",
        "outputId": "f953e5c6-2205-4ac4-a96a-6ff954c43de2"
      },
      "execution_count": 5,
      "outputs": [
        {
          "output_type": "stream",
          "name": "stdout",
          "text": [
            "19\n"
          ]
        }
      ]
    },
    {
      "cell_type": "code",
      "source": [
        "print(round(x))  (YUVARLAQLAŞDIRDIQDA)"
      ],
      "metadata": {
        "colab": {
          "base_uri": "https://localhost:8080/"
        },
        "id": "1sX8p_Jig53K",
        "outputId": "a12b6e1d-895d-4a7d-ad58-cfe94a00726f"
      },
      "execution_count": 6,
      "outputs": [
        {
          "output_type": "stream",
          "name": "stdout",
          "text": [
            "20\n"
          ]
        }
      ]
    },
    {
      "cell_type": "markdown",
      "source": [
        "TASK_1A (3-CÜ SUAL)"
      ],
      "metadata": {
        "id": "-j7KexwShDqK"
      }
    },
    {
      "cell_type": "code",
      "source": [
        "s = \"500\"\n",
        "num = int(s)\n",
        "result = num / 2\n",
        "print(result)\n"
      ],
      "metadata": {
        "colab": {
          "base_uri": "https://localhost:8080/"
        },
        "id": "aOOnHTTohGX6",
        "outputId": "8e669a36-82b3-42f0-ffe5-3d1d1bc5523d"
      },
      "execution_count": 7,
      "outputs": [
        {
          "output_type": "stream",
          "name": "stdout",
          "text": [
            "250.0\n"
          ]
        }
      ]
    },
    {
      "cell_type": "markdown",
      "source": [
        "TASK_1A (4-CÜ SUAL)"
      ],
      "metadata": {
        "id": "zH_mh_CQhMhi"
      }
    },
    {
      "cell_type": "code",
      "source": [
        "a = 8\n",
        "b = 12\n",
        "\n",
        "# a < b şərtini yoxlayırıq\n",
        "print(a < b)   #\n",
        "\n",
        "# a == b şərtini yoxlayırıq\n",
        "print(a == b)\n"
      ],
      "metadata": {
        "colab": {
          "base_uri": "https://localhost:8080/"
        },
        "id": "P3fRsGEPhPTi",
        "outputId": "db11254e-0407-40f1-a478-629eb8ce63bc"
      },
      "execution_count": 8,
      "outputs": [
        {
          "output_type": "stream",
          "name": "stdout",
          "text": [
            "True\n",
            "False\n"
          ]
        }
      ]
    },
    {
      "cell_type": "markdown",
      "source": [
        "TASK_1A (5-Cİ SUAL)"
      ],
      "metadata": {
        "id": "qPIWYb16hV1i"
      }
    },
    {
      "cell_type": "code",
      "source": [
        "x = 5\n",
        "y = 10\n",
        "z = 15\n",
        "\n",
        "# Şərti yoxlayaq\n",
        "result = (x < y) and (y < z)\n",
        "print(result)\n"
      ],
      "metadata": {
        "colab": {
          "base_uri": "https://localhost:8080/"
        },
        "id": "uTG4QSOVhYB3",
        "outputId": "a931d0bd-5e26-4885-a276-1302ff4aed48"
      },
      "execution_count": 9,
      "outputs": [
        {
          "output_type": "stream",
          "name": "stdout",
          "text": [
            "True\n"
          ]
        }
      ]
    },
    {
      "cell_type": "markdown",
      "source": [
        "TASK_1A (6-CI SUAL)**"
      ],
      "metadata": {
        "id": "vuGbOf3zhelK"
      }
    },
    {
      "cell_type": "code",
      "source": [
        "a = 25\n",
        "b = 4\n",
        "\n",
        "# Tam bölmə\n",
        "divmod_result = a // b\n",
        "# Qalıq\n",
        "remainder = a % b\n",
        "# Adi bölmə\n",
        "division_result = a / b\n",
        "\n",
        "# Nəticələri çap edək\n",
        "print(\"Tam bölmə:\", divmod_result)\n",
        "print(\"Qalıq:\", remainder)\n",
        "print(\"Adi bölmə:\", division_result)\n"
      ],
      "metadata": {
        "colab": {
          "base_uri": "https://localhost:8080/"
        },
        "id": "5YpOrkLOhhCC",
        "outputId": "7cf6a0f6-7e76-4b31-a408-d4377c0cdd94"
      },
      "execution_count": 10,
      "outputs": [
        {
          "output_type": "stream",
          "name": "stdout",
          "text": [
            "Tam bölmə: 6\n",
            "Qalıq: 1\n",
            "Adi bölmə: 6.25\n"
          ]
        }
      ]
    },
    {
      "cell_type": "code",
      "source": [],
      "metadata": {
        "id": "z5F3yfvHh8By"
      },
      "execution_count": null,
      "outputs": []
    },
    {
      "cell_type": "markdown",
      "source": [
        "TASK_1A (7-Cİ SUAL)  3-ü 4-cü dərəcəyə qaldırın və nəticəni çap edin."
      ],
      "metadata": {
        "id": "LG4IBrBVhvHi"
      }
    },
    {
      "cell_type": "code",
      "source": [
        "result = 3 ** 4\n",
        "print(result)  # Çap edəcək: 81\n"
      ],
      "metadata": {
        "colab": {
          "base_uri": "https://localhost:8080/"
        },
        "id": "2kh_GGnNhx7K",
        "outputId": "0516a010-ec5b-43fd-bed5-6224473ffd5e"
      },
      "execution_count": 11,
      "outputs": [
        {
          "output_type": "stream",
          "name": "stdout",
          "text": [
            "81\n"
          ]
        }
      ]
    },
    {
      "cell_type": "markdown",
      "source": [
        "TASK_1A (8-Cİ SUAL)  qiymet = 75.5 yaradın. Onu tam ədədə çevirin və tipini yoxlayın."
      ],
      "metadata": {
        "id": "vG1faSJKiBNq"
      }
    },
    {
      "cell_type": "code",
      "source": [
        "qiymet = 75.5\n",
        "qiymet_tam = int(qiymet)\n",
        "print(qiymet_tam)\n",
        "print(type(qiymet_tam))\n"
      ],
      "metadata": {
        "colab": {
          "base_uri": "https://localhost:8080/"
        },
        "id": "yHR5X4j9iHT6",
        "outputId": "531aeb1f-17c1-4e63-a863-2395e536c258"
      },
      "execution_count": 12,
      "outputs": [
        {
          "output_type": "stream",
          "name": "stdout",
          "text": [
            "75\n",
            "<class 'int'>\n"
          ]
        }
      ]
    },
    {
      "cell_type": "markdown",
      "source": [
        "TASK_1A (9-CU SUAL)  n = 20 yaradın. (n > 10) or (n < 5) və (n > 15) and (n < 25) şərtlərini yoxlayın, nəticələri çap edin."
      ],
      "metadata": {
        "id": "LXB2eL8eiNJa"
      }
    },
    {
      "cell_type": "code",
      "source": [
        "n = 20\n",
        "\n",
        "# (n > 10) or (n < 5) şərtini yoxlayaq\n",
        "or_result = (n > 10) or (n < 5)\n",
        "\n",
        "# (n > 15) and (n < 25) şərtini yoxlayaq\n",
        "and_result = (n > 15) and (n < 25)\n",
        "\n",
        "# Nəticələri çap edək\n",
        "print(\"(n > 10) or (n < 5):\", or_result)  # Çap edəcək: True\n",
        "print(\"(n > 15) and (n < 25):\", and_result)  # Çap edəcək: True\n"
      ],
      "metadata": {
        "colab": {
          "base_uri": "https://localhost:8080/"
        },
        "id": "yLXYCf3Fib_q",
        "outputId": "17af1f3c-741f-4b9a-912e-91b8c69235d8"
      },
      "execution_count": 14,
      "outputs": [
        {
          "output_type": "stream",
          "name": "stdout",
          "text": [
            "(n > 10) or (n < 5): True\n",
            "(n > 15) and (n < 25): True\n"
          ]
        }
      ]
    },
    {
      "cell_type": "markdown",
      "source": [
        "TASK_1A (10-CU SUAL)  \"42.8\" dəyərini əvvəl float-a, sonra tam ədədə çevirin və hər addımda tipi yoxlayın."
      ],
      "metadata": {
        "id": "Vyn7R6m0igZi"
      }
    },
    {
      "cell_type": "code",
      "source": [
        "# \"42.8\" dəyəri\n",
        "value = \"42.8\"\n",
        "\n",
        "# 1-ci addım: String'i float'a çeviririk\n",
        "value_float = float(value)\n",
        "print(value_float)\n",
        "print(type(value_float))\n",
        "\n",
        "# 2-ci addım: Float'u tam ədədə çeviririk\n",
        "value_int = int(value_float)\n",
        "print(value_int)\n",
        "print(type(value_int))"
      ],
      "metadata": {
        "colab": {
          "base_uri": "https://localhost:8080/"
        },
        "id": "EC4ffhwSin3C",
        "outputId": "d980785a-46e2-480d-976d-400dddea458c"
      },
      "execution_count": 15,
      "outputs": [
        {
          "output_type": "stream",
          "name": "stdout",
          "text": [
            "42.8\n",
            "<class 'float'>\n",
            "42\n",
            "<class 'int'>\n"
          ]
        }
      ]
    },
    {
      "cell_type": "markdown",
      "source": [
        "**# Sprint_1b_task**"
      ],
      "metadata": {
        "id": "z0a079ajiwVi"
      }
    },
    {
      "cell_type": "markdown",
      "source": [
        "TASK_1B (1-Cİ SUAL)  s = \"Programming\" yaradın. Uzunluğunu və ilk simvolunu çap edin."
      ],
      "metadata": {
        "id": "CnGpT28mjYXj"
      }
    },
    {
      "cell_type": "code",
      "source": [
        "s = \"Programming\"\n",
        "\n",
        "# Uzunluğunu tapırıq\n",
        "length = len(s)\n",
        "print(\"Uzunluq:\", length)\n",
        "\n",
        "# İlk simvolu tapırıq\n",
        "first_char = s[0]\n",
        "print(\"İlk simvol:\", first_char)\n"
      ],
      "metadata": {
        "colab": {
          "base_uri": "https://localhost:8080/"
        },
        "id": "hUojaGbKjNOi",
        "outputId": "0bc3034c-c6ec-4bb2-98ef-d3f7623a26c0"
      },
      "execution_count": 16,
      "outputs": [
        {
          "output_type": "stream",
          "name": "stdout",
          "text": [
            "Uzunluq: 11\n",
            "İlk simvol: P\n"
          ]
        }
      ]
    },
    {
      "cell_type": "markdown",
      "source": [
        "TASK_1B (2-Cİ SUAL) 2) s1 = \"Hello\" və s2 = \"World\" yaradın. Onları boşluqla birləşdirin və nəticəni çap edin."
      ],
      "metadata": {
        "id": "9g8-Div3jhsq"
      }
    },
    {
      "cell_type": "code",
      "source": [
        "s1 = \"Hello\"\n",
        "s2 = \"World\"\n",
        "\n",
        "# İki string-i boşluqla birləşdiririk\n",
        "result = s1 + \" \" + s2\n",
        "print(result)\n"
      ],
      "metadata": {
        "colab": {
          "base_uri": "https://localhost:8080/"
        },
        "id": "t_85QuMGjkLC",
        "outputId": "a6e1575a-04c5-42ec-daa4-36ba5c413126"
      },
      "execution_count": 17,
      "outputs": [
        {
          "output_type": "stream",
          "name": "stdout",
          "text": [
            "Hello World\n"
          ]
        }
      ]
    },
    {
      "cell_type": "markdown",
      "source": [
        "TASK_1B (3-CÜ SUAL) text = \"Python\" yaradın. Son simvolunu çap edin."
      ],
      "metadata": {
        "id": "kvD3W1QEjqBC"
      }
    },
    {
      "cell_type": "code",
      "source": [
        "text = \"Python\"\n",
        "\n",
        "# Son simvolu tapırıq\n",
        "last_char = text[-1]\n",
        "print(last_char)\n"
      ],
      "metadata": {
        "colab": {
          "base_uri": "https://localhost:8080/"
        },
        "id": "vSTOLm1ejv5y",
        "outputId": "9c825557-8ac6-4198-890d-fa30bf858073"
      },
      "execution_count": 18,
      "outputs": [
        {
          "output_type": "stream",
          "name": "stdout",
          "text": [
            "n\n"
          ]
        }
      ]
    },
    {
      "cell_type": "markdown",
      "source": [
        "TASK_1B (4-CÜ SUAL) 4) s = \"Artificial\" yaradın. \"Art\" hissəsini ilə çıxarın və çap edin."
      ],
      "metadata": {
        "id": "sJh97FURj0X6"
      }
    },
    {
      "cell_type": "code",
      "source": [
        "s = \"Artificial\"\n",
        "\n",
        "# \"Art\" hissəsini çıxarırıq\n",
        "new_s = s.replace(\"Art\", \"\")\n",
        "print(new_s)\n"
      ],
      "metadata": {
        "colab": {
          "base_uri": "https://localhost:8080/"
        },
        "id": "704uYgBPj7Hr",
        "outputId": "e138f115-b51b-445e-afbd-8e41b4a76028"
      },
      "execution_count": 19,
      "outputs": [
        {
          "output_type": "stream",
          "name": "stdout",
          "text": [
            "ificial\n"
          ]
        }
      ]
    },
    {
      "cell_type": "markdown",
      "source": [
        "TASK_1B (5-Cİ SUAL) word = \"Code\" yaradın. Tərsinə çevirin və nəticəni çap edin."
      ],
      "metadata": {
        "id": "vWmN_lYSj8pz"
      }
    },
    {
      "cell_type": "code",
      "source": [
        "word = \"Code\"\n",
        "\n",
        "# Tərsinə çeviririk\n",
        "reversed_word = word[::-1]\n",
        "print(reversed_word)\n"
      ],
      "metadata": {
        "colab": {
          "base_uri": "https://localhost:8080/"
        },
        "id": "XcLxTYIWkBui",
        "outputId": "c94d304b-20f3-4784-a8fc-76a66dc00376"
      },
      "execution_count": 20,
      "outputs": [
        {
          "output_type": "stream",
          "name": "stdout",
          "text": [
            "edoC\n"
          ]
        }
      ]
    },
    {
      "cell_type": "markdown",
      "source": [
        "TASK_1B (6-Cİ SUAL) s = \"abcdefgh\" yaradın. Hər ikinci simvolu alın və çap edin."
      ],
      "metadata": {
        "id": "WRrGHvVskIlS"
      }
    },
    {
      "cell_type": "code",
      "source": [
        "s = \"abcdefgh\"\n",
        "\n",
        "# Hər ikinci simvolu alırıq\n",
        "every_second_char = s[::2]\n",
        "print(every_second_char)\n"
      ],
      "metadata": {
        "colab": {
          "base_uri": "https://localhost:8080/"
        },
        "id": "o2V1GobhkMRi",
        "outputId": "347f3134-1fb9-463c-eba8-ffed4a623bf5"
      },
      "execution_count": 21,
      "outputs": [
        {
          "output_type": "stream",
          "name": "stdout",
          "text": [
            "aceg\n"
          ]
        }
      ]
    },
    {
      "cell_type": "markdown",
      "source": [
        "TASK_1B (7-Cİ SUAL)  text = \"data\" yaradın. Onu bir sətrlik kodla böyük hərflərə və kiçik hərflərə çevirib çap edin."
      ],
      "metadata": {
        "id": "FPvVqnUYkQ5y"
      }
    },
    {
      "cell_type": "code",
      "source": [
        "text = \"data\"\n",
        "\n",
        "# Böyük və kiçik hərflərə çevirmək və çap etmək\n",
        "print(text.upper(), text.lower())\n"
      ],
      "metadata": {
        "colab": {
          "base_uri": "https://localhost:8080/"
        },
        "id": "-tj9hzczkWGq",
        "outputId": "642258c6-d53c-4b1f-cbd4-4de3f0b3f4a4"
      },
      "execution_count": 22,
      "outputs": [
        {
          "output_type": "stream",
          "name": "stdout",
          "text": [
            "DATA data\n"
          ]
        }
      ]
    },
    {
      "cell_type": "markdown",
      "source": [
        "TASK_1B (8-Cİ SUAL) s = \"Python-R-Java\" yaradın. \"-\" ilə ayırın (split(\"-\")) və nəticəni çap edin."
      ],
      "metadata": {
        "id": "YMWrD2iWkZfq"
      }
    },
    {
      "cell_type": "code",
      "source": [
        "s = \"Python-R-Java\"\n",
        "\n",
        "# \"-\" ilə ayırırıq\n",
        "split_result = s.split(\"-\")\n",
        "print(split_result)\n"
      ],
      "metadata": {
        "colab": {
          "base_uri": "https://localhost:8080/"
        },
        "id": "adeWklB6kjey",
        "outputId": "89d1a8bf-a219-4cbb-e6ef-31d6231be762"
      },
      "execution_count": 24,
      "outputs": [
        {
          "output_type": "stream",
          "name": "stdout",
          "text": [
            "['Python', 'R', 'Java']\n"
          ]
        }
      ]
    },
    {
      "cell_type": "markdown",
      "source": [
        "TASK_1B (9-CU SUAL) ad = \"Ayxan\" və yaş = 25 yaradın. f-string ilə \"Ayxan 25 yaşındadır\" çap edin."
      ],
      "metadata": {
        "id": "M3_bKc-2kk3a"
      }
    },
    {
      "cell_type": "code",
      "source": [
        "ad = \"Ayxan\"\n",
        "yaş = 25\n",
        "\n",
        "# f-string ilə çap edirik\n",
        "print(f\"{ad} {yaş} yaşındadır\")"
      ],
      "metadata": {
        "colab": {
          "base_uri": "https://localhost:8080/"
        },
        "id": "yX5KjCPBkpoa",
        "outputId": "d6b51c88-1504-4ae0-99c4-775203292584"
      },
      "execution_count": 25,
      "outputs": [
        {
          "output_type": "stream",
          "name": "stdout",
          "text": [
            "Ayxan 25 yaşındadır\n"
          ]
        }
      ]
    },
    {
      "cell_type": "markdown",
      "source": [
        "TASK_1B (10-CU SUAL) s = \"salam-dunya\" yaradın. \"-\"ni boşluqla əvəz edin və nəticəni çap edin."
      ],
      "metadata": {
        "id": "Vr01OheMktEK"
      }
    },
    {
      "cell_type": "code",
      "source": [
        "s = \"salam-dunya\"\n",
        "\n",
        "# \"-\" simvolunu boşluqla əvəz edirik\n",
        "new_s = s.replace(\"-\", \" \")\n",
        "print(new_s)  # Çap edəcək: salam dunya\n"
      ],
      "metadata": {
        "colab": {
          "base_uri": "https://localhost:8080/"
        },
        "id": "kvsb0Kzjkyla",
        "outputId": "66b15b15-41d7-4844-fd1b-38f114e5644e"
      },
      "execution_count": 26,
      "outputs": [
        {
          "output_type": "stream",
          "name": "stdout",
          "text": [
            "salam dunya\n"
          ]
        }
      ]
    },
    {
      "cell_type": "markdown",
      "source": [
        "**# Sprint_2a_task**\n",
        "\n"
      ],
      "metadata": {
        "id": "K1eDa8gWk3-6"
      }
    },
    {
      "cell_type": "markdown",
      "source": [
        "TASK_2A (1-Cİ SUAL) 5, 10, 15, 20 rəqəmlərindən ibarət “rəqəmlər” adlı list/vector yaradın"
      ],
      "metadata": {
        "id": "LOZ9e9B4lAGC"
      }
    },
    {
      "cell_type": "code",
      "source": [
        "rəqəmlər = [5, 10, 15, 20]\n",
        "print(rəqəmlər)\n"
      ],
      "metadata": {
        "colab": {
          "base_uri": "https://localhost:8080/"
        },
        "id": "pQlSs1VdlEaa",
        "outputId": "2d52f7ab-e02b-4ed2-8157-7ec8a7ba9454"
      },
      "execution_count": 27,
      "outputs": [
        {
          "output_type": "stream",
          "name": "stdout",
          "text": [
            "[5, 10, 15, 20]\n"
          ]
        }
      ]
    },
    {
      "cell_type": "markdown",
      "source": [
        "TASK_2A (2-Cİ SUAL) “rəqəmlər” listinin/vectorunun uzunluğunu tapın"
      ],
      "metadata": {
        "id": "VkXHaXLTlIVy"
      }
    },
    {
      "cell_type": "code",
      "source": [
        "rəqəmlər = [5, 10, 15, 20]\n",
        "\n",
        "# Listin uzunluğunu tapırıq\n",
        "uzunluq = len(rəqəmlər)\n",
        "print(uzunluq)\n"
      ],
      "metadata": {
        "colab": {
          "base_uri": "https://localhost:8080/"
        },
        "id": "JruCdvVIlQqK",
        "outputId": "9e3c496e-e2b5-44e9-8827-8e8c9a0aec22"
      },
      "execution_count": 28,
      "outputs": [
        {
          "output_type": "stream",
          "name": "stdout",
          "text": [
            "4\n"
          ]
        }
      ]
    },
    {
      "cell_type": "markdown",
      "source": [
        "TASK_2A (3-CÜ SUAL) “rəqəmlər” listinə/vectoruna 25 elementini əlavə edin"
      ],
      "metadata": {
        "id": "uwuyEiUjlS6C"
      }
    },
    {
      "cell_type": "code",
      "source": [
        "rəqəmlər = [5, 10, 15, 20]\n",
        "\n",
        "# 25 elementini əlavə edirik\n",
        "rəqəmlər.append(25)\n",
        "print(rəqəmlər)\n"
      ],
      "metadata": {
        "colab": {
          "base_uri": "https://localhost:8080/"
        },
        "id": "zkfSYx46lW4q",
        "outputId": "bc8c4868-5dbd-4869-9740-4bcee1cecf03"
      },
      "execution_count": 29,
      "outputs": [
        {
          "output_type": "stream",
          "name": "stdout",
          "text": [
            "[5, 10, 15, 20, 25]\n"
          ]
        }
      ]
    },
    {
      "cell_type": "markdown",
      "source": [
        "TASK_2A (4-CÜ SUAL) “rəqəmlər” listinin/vectorunun 2-ci indeksinə 12 elementini əlavə edin"
      ],
      "metadata": {
        "id": "pL1XkWOulbkK"
      }
    },
    {
      "cell_type": "code",
      "source": [
        "rəqəmlər = [5, 10, 15, 20, 25]\n",
        "\n",
        "# 2-ci indeksə 12 elementini əlavə edirik\n",
        "rəqəmlər.insert(2, 12)\n",
        "print(rəqəmlər)\n"
      ],
      "metadata": {
        "colab": {
          "base_uri": "https://localhost:8080/"
        },
        "id": "gqoF_VXRlfby",
        "outputId": "386d0d6d-e180-4a8c-bea5-a7cf4dea339d"
      },
      "execution_count": 30,
      "outputs": [
        {
          "output_type": "stream",
          "name": "stdout",
          "text": [
            "[5, 10, 12, 15, 20, 25]\n"
          ]
        }
      ]
    },
    {
      "cell_type": "markdown",
      "source": [
        "TASK_2A (5-Cİ SUAL) 1, 2, 3 və 4, 5, 6 listlərini/vectorlarını birləşdirin"
      ],
      "metadata": {
        "id": "TlC_xMJFljyy"
      }
    },
    {
      "cell_type": "code",
      "source": [
        "list1 = [1, 2, 3]\n",
        "list2 = [4, 5, 6]\n",
        "\n",
        "# İki listi birləşdiririk\n",
        "birləşmiş_list = list1 + list2\n",
        "print(birləşmiş_list)\n"
      ],
      "metadata": {
        "colab": {
          "base_uri": "https://localhost:8080/"
        },
        "id": "GJnTHzP8lsaa",
        "outputId": "497ddf0f-15d9-475d-c85e-3663e68bb5f3"
      },
      "execution_count": 31,
      "outputs": [
        {
          "output_type": "stream",
          "name": "stdout",
          "text": [
            "[1, 2, 3, 4, 5, 6]\n"
          ]
        }
      ]
    },
    {
      "cell_type": "markdown",
      "source": [
        "TASK_2A (6-CI SUAL)  “rəqəmlər” listindən/vectorundan 2-ci və 3-cü elementləri seçin"
      ],
      "metadata": {
        "id": "lpwJ3S9FlwMS"
      }
    },
    {
      "cell_type": "code",
      "source": [
        "rəqəmlər = [5, 10, 15, 20, 25]\n",
        "\n",
        "# 2-ci və 3-cü elementləri seçirik (1-ci və 2-ci indekslər)\n",
        "seçilmiş_elements = rəqəmlər[1:3]\n",
        "print(seçilmiş_elements)\n"
      ],
      "metadata": {
        "colab": {
          "base_uri": "https://localhost:8080/"
        },
        "id": "cvoQAtLDlzjS",
        "outputId": "92a4a458-3996-47d5-f3c0-2f93347dbf72"
      },
      "execution_count": 32,
      "outputs": [
        {
          "output_type": "stream",
          "name": "stdout",
          "text": [
            "[10, 15]\n"
          ]
        }
      ]
    },
    {
      "cell_type": "markdown",
      "source": [
        "TASK_2A (7-Cİ SUAL) “rəqəmlər” listinin/vectorunun ilk elementini 50 ilə əvəz edin"
      ],
      "metadata": {
        "id": "VvuaJq6Dl20C"
      }
    },
    {
      "cell_type": "code",
      "source": [
        "rəqəmlər = [5, 10, 15, 20, 25]\n",
        "\n",
        "# İlk elementi 50 ilə əvəz edirik\n",
        "rəqəmlər[0] = 50\n",
        "print(rəqəmlər)\n"
      ],
      "metadata": {
        "colab": {
          "base_uri": "https://localhost:8080/"
        },
        "id": "CDgRTVXNl9_z",
        "outputId": "83590e53-741b-489e-b417-96f3eff722d6"
      },
      "execution_count": 33,
      "outputs": [
        {
          "output_type": "stream",
          "name": "stdout",
          "text": [
            "[50, 10, 15, 20, 25]\n"
          ]
        }
      ]
    },
    {
      "cell_type": "markdown",
      "source": [
        "TASK_2A (8-Cİ SUAL) “rəqəmlər” listində/vectorunda 19 elementinin olub-olmadığını yoxlayın"
      ],
      "metadata": {
        "id": "ZIGB-jFvmASi"
      }
    },
    {
      "cell_type": "code",
      "source": [
        "rəqəmlər = [5, 10, 15, 20, 25]\n",
        "\n",
        "# 19 elementinin olub-olmadığını yoxlayırıq\n",
        "is_present = 19 in rəqəmlər\n",
        "print(is_present)\n"
      ],
      "metadata": {
        "colab": {
          "base_uri": "https://localhost:8080/"
        },
        "id": "_Lkw_aZemIQK",
        "outputId": "2a130748-c5ef-49b6-a077-8c181b45839c"
      },
      "execution_count": 34,
      "outputs": [
        {
          "output_type": "stream",
          "name": "stdout",
          "text": [
            "False\n"
          ]
        }
      ]
    },
    {
      "cell_type": "markdown",
      "source": [
        "TASK_2A (9-CU SUAL) \"a\", \"b\", \"a\", \"c\" listində/vectorunda \"a\" elementinin neçə dəfə təkrarlandığını tapın"
      ],
      "metadata": {
        "id": "lCmAz-hlmLiS"
      }
    },
    {
      "cell_type": "code",
      "source": [
        "elements = [\"a\", \"b\", \"a\", \"c\"]\n",
        "\n",
        "# \"a\" elementinin neçə dəfə təkrarlandığını tapırıq\n",
        "count_a = elements.count(\"a\")\n",
        "print(count_a)\n"
      ],
      "metadata": {
        "colab": {
          "base_uri": "https://localhost:8080/"
        },
        "id": "H26z-xfumjgE",
        "outputId": "257076c2-cf35-4a8f-da67-05df71611422"
      },
      "execution_count": 35,
      "outputs": [
        {
          "output_type": "stream",
          "name": "stdout",
          "text": [
            "2\n"
          ]
        }
      ]
    },
    {
      "cell_type": "markdown",
      "source": [
        "TASK_2A (10-CU SUAL) \"x\", \"y\", \"x\", \"z\" listindən/vectorundan \"x\" elementlərini silin"
      ],
      "metadata": {
        "id": "ByLFbhxWmlBS"
      }
    },
    {
      "cell_type": "code",
      "source": [
        "elements = [\"x\", \"y\", \"x\", \"z\"]\n",
        "\n",
        "# Dövr vasitəsilə \"x\" elementlərini silirik\n",
        "while \"x\" in elements:\n",
        "    elements.remove(\"x\")\n",
        "\n",
        "print(elements)"
      ],
      "metadata": {
        "colab": {
          "base_uri": "https://localhost:8080/"
        },
        "id": "ZbnkOvolmoqa",
        "outputId": "cb9bd0cf-bf2f-4bb6-983c-8d637fc6f615"
      },
      "execution_count": 36,
      "outputs": [
        {
          "output_type": "stream",
          "name": "stdout",
          "text": [
            "['y', 'z']\n"
          ]
        }
      ]
    },
    {
      "cell_type": "markdown",
      "source": [
        "TASK_2A (11-Cİ SUAL) 7, 2, 9, 1 listini/vectorunu azalan sırayla sıralayın"
      ],
      "metadata": {
        "id": "OvmDgdnEmu4i"
      }
    },
    {
      "cell_type": "code",
      "source": [
        "numbers = [7, 2, 9, 1]\n",
        "\n",
        "# Listi azalan sırayla sıralayırıq\n",
        "numbers.sort(reverse=True)\n",
        "print(numbers)"
      ],
      "metadata": {
        "colab": {
          "base_uri": "https://localhost:8080/"
        },
        "id": "MEEiJDYWmw5S",
        "outputId": "3ca561c0-d0da-4065-9fdc-01fed686122a"
      },
      "execution_count": 37,
      "outputs": [
        {
          "output_type": "stream",
          "name": "stdout",
          "text": [
            "[9, 7, 2, 1]\n"
          ]
        }
      ]
    },
    {
      "cell_type": "markdown",
      "source": [
        "TASK_2A (12-Cİ SUAL) “rəqəmlər” listindən/vectorundan 10-dan böyük elementləri seçin"
      ],
      "metadata": {
        "id": "RjtMmGGRm4j6"
      }
    },
    {
      "cell_type": "code",
      "source": [
        "rəqəmlər = [5, 10, 15, 20, 25]\n",
        "\n",
        "# 10-dan böyük elementləri seçirik\n",
        "böyük_elements = [x for x in rəqəmlər if x > 10]\n",
        "print(böyük_elements)"
      ],
      "metadata": {
        "colab": {
          "base_uri": "https://localhost:8080/"
        },
        "id": "ZMZmtgVKm-da",
        "outputId": "eca0bb6a-20d8-4d41-acc1-539c76808968"
      },
      "execution_count": 38,
      "outputs": [
        {
          "output_type": "stream",
          "name": "stdout",
          "text": [
            "[15, 20, 25]\n"
          ]
        }
      ]
    },
    {
      "cell_type": "markdown",
      "source": [
        "## **Sprint_2b_task**"
      ],
      "metadata": {
        "id": "Phi_pb8MnCUK"
      }
    },
    {
      "cell_type": "markdown",
      "source": [
        "TASK_2B (1-Cİ SUAL) 10, 20, 30, 40 elementlərindən ibarət s1 adlı series/vector yaradın"
      ],
      "metadata": {
        "id": "WPZgk36YnF2C"
      }
    },
    {
      "cell_type": "code",
      "source": [
        "pip install pandas\n"
      ],
      "metadata": {
        "colab": {
          "base_uri": "https://localhost:8080/"
        },
        "id": "q79Y8BJonWja",
        "outputId": "fa84863e-77f5-4deb-f4dc-c39a474d9b68"
      },
      "execution_count": 40,
      "outputs": [
        {
          "output_type": "stream",
          "name": "stdout",
          "text": [
            "Requirement already satisfied: pandas in /usr/local/lib/python3.11/dist-packages (2.2.2)\n",
            "Requirement already satisfied: numpy>=1.23.2 in /usr/local/lib/python3.11/dist-packages (from pandas) (2.0.2)\n",
            "Requirement already satisfied: python-dateutil>=2.8.2 in /usr/local/lib/python3.11/dist-packages (from pandas) (2.8.2)\n",
            "Requirement already satisfied: pytz>=2020.1 in /usr/local/lib/python3.11/dist-packages (from pandas) (2025.2)\n",
            "Requirement already satisfied: tzdata>=2022.7 in /usr/local/lib/python3.11/dist-packages (from pandas) (2025.2)\n",
            "Requirement already satisfied: six>=1.5 in /usr/local/lib/python3.11/dist-packages (from python-dateutil>=2.8.2->pandas) (1.17.0)\n"
          ]
        }
      ]
    },
    {
      "cell_type": "code",
      "source": [
        "import pandas as pd\n",
        "\n",
        "# 10, 20, 30, 40 elementlərindən ibarət series yaratmaq\n",
        "s1 = pd.Series([10, 20, 30, 40])\n",
        "\n",
        "print(s1)\n"
      ],
      "metadata": {
        "colab": {
          "base_uri": "https://localhost:8080/"
        },
        "id": "LS0aHRDtnYUC",
        "outputId": "f59933f1-7f96-4259-9a15-e7b36d96d711"
      },
      "execution_count": 41,
      "outputs": [
        {
          "output_type": "stream",
          "name": "stdout",
          "text": [
            "0    10\n",
            "1    20\n",
            "2    30\n",
            "3    40\n",
            "dtype: int64\n"
          ]
        }
      ]
    },
    {
      "cell_type": "markdown",
      "source": [
        "TASK_2B (2-Cİ SUAL) s1-ə 'w', 'x', 'y', 'z' indekslərini təyin edin"
      ],
      "metadata": {
        "id": "-tSGwidqngm6"
      }
    },
    {
      "cell_type": "code",
      "source": [
        "import pandas as pd\n",
        "\n",
        "# 10, 20, 30, 40 elementlərindən ibarət series yaratmaq və indeksləri təyin etmək\n",
        "s1 = pd.Series([10, 20, 30, 40], index=['w', 'x', 'y', 'z'])\n",
        "\n",
        "print(s1)\n"
      ],
      "metadata": {
        "colab": {
          "base_uri": "https://localhost:8080/"
        },
        "id": "KYXPAfXbnkqy",
        "outputId": "89484faa-bb69-4cfa-fa9c-9232e7f7f2f4"
      },
      "execution_count": 42,
      "outputs": [
        {
          "output_type": "stream",
          "name": "stdout",
          "text": [
            "w    10\n",
            "x    20\n",
            "y    30\n",
            "z    40\n",
            "dtype: int64\n"
          ]
        }
      ]
    },
    {
      "cell_type": "markdown",
      "source": [
        "TASK_2B (3-CU SUAL)  Python: {'p': 5, 'q': 10, 'r': 15} dictionary-dən s2 adlı Series yaradın\n",
        "    R: list(p = 5, q = 10, r = 15) listindən v2 adlı named vektor yaradın"
      ],
      "metadata": {
        "id": "4kNveeojntoq"
      }
    },
    {
      "cell_type": "code",
      "source": [
        "import pandas as pd\n",
        "\n",
        "# Dictionary yaradılır\n",
        "data = {'p': 5, 'q': 10, 'r': 15}\n",
        "\n",
        "# Dictionary-dən Series yaratmaq\n",
        "s2 = pd.Series(data)\n",
        "\n",
        "print(s2)\n"
      ],
      "metadata": {
        "colab": {
          "base_uri": "https://localhost:8080/"
        },
        "id": "d4pHrLgynykq",
        "outputId": "88598f9e-de5f-4fa7-e98d-bd51d46194cf"
      },
      "execution_count": 43,
      "outputs": [
        {
          "output_type": "stream",
          "name": "stdout",
          "text": [
            "p     5\n",
            "q    10\n",
            "r    15\n",
            "dtype: int64\n"
          ]
        }
      ]
    },
    {
      "cell_type": "markdown",
      "source": [
        "TASK_2B (4-CÜ SUAL)  s2-dən 'q' indeksli elementi seçin"
      ],
      "metadata": {
        "id": "m80h7Oqfn2Nz"
      }
    },
    {
      "cell_type": "code",
      "source": [
        "import pandas as pd\n",
        "\n",
        "# Dictionary-dən Series yaratmaq\n",
        "data = {'p': 5, 'q': 10, 'r': 15}\n",
        "s2 = pd.Series(data)\n",
        "\n",
        "# 'q' indeksli elementi seçirik\n",
        "q_element = s2['q']\n",
        "print(q_element)  # Çap edəcək: 10\n"
      ],
      "metadata": {
        "colab": {
          "base_uri": "https://localhost:8080/"
        },
        "id": "MpFwUIsrn_kK",
        "outputId": "42c6a162-7f39-4fdf-f88c-08ea282248a7"
      },
      "execution_count": 44,
      "outputs": [
        {
          "output_type": "stream",
          "name": "stdout",
          "text": [
            "10\n"
          ]
        }
      ]
    },
    {
      "cell_type": "markdown",
      "source": [
        "TASK_2B (5-Cİ SUAL) s1-dən 25-dən böyük elementləri seçin\n",
        "\n"
      ],
      "metadata": {
        "id": "5CvVmFusoCva"
      }
    },
    {
      "cell_type": "code",
      "source": [
        "import pandas as pd\n",
        "\n",
        "# Series yaratmaq\n",
        "s1 = pd.Series([10, 20, 30, 40, 25], index=['a', 'b', 'c', 'd', 'e'])\n",
        "# 25-dən böyük elementləri seçirik\n",
        "böyük_elements = s1[s1 > 25]\n",
        "print(böyük_elements)\n"
      ],
      "metadata": {
        "colab": {
          "base_uri": "https://localhost:8080/"
        },
        "id": "lwR8uZ-3oOo7",
        "outputId": "2ea27836-524e-491e-e62d-4e307d5765e3"
      },
      "execution_count": 45,
      "outputs": [
        {
          "output_type": "stream",
          "name": "stdout",
          "text": [
            "c    30\n",
            "d    40\n",
            "dtype: int64\n"
          ]
        }
      ]
    },
    {
      "cell_type": "markdown",
      "source": [
        "TASK_2B (6-Cİ SUAL)  s1-də 20-dən böyük elementləri 10-a bölün"
      ],
      "metadata": {
        "id": "n7QSiWjFoSRC"
      }
    },
    {
      "cell_type": "code",
      "source": [
        "import pandas as pd\n",
        "\n",
        "# Series yaratmaq\n",
        "s1 = pd.Series([10, 20, 30, 40, 25], index=['a', 'b', 'c', 'd', 'e'])\n",
        "\n",
        "# 20-dən böyük elementləri tapırıq və onları 10-a bölürük\n",
        "s1[s1 > 20] = s1[s1 > 20] / 10\n",
        "\n",
        "print(s1)\n"
      ],
      "metadata": {
        "colab": {
          "base_uri": "https://localhost:8080/"
        },
        "id": "UAsbppHFoViK",
        "outputId": "199e7b49-c35d-4ae3-c930-7cd54f04a1fb"
      },
      "execution_count": 46,
      "outputs": [
        {
          "output_type": "stream",
          "name": "stdout",
          "text": [
            "a    10.0\n",
            "b    20.0\n",
            "c     3.0\n",
            "d     4.0\n",
            "e     2.5\n",
            "dtype: float64\n"
          ]
        },
        {
          "output_type": "stream",
          "name": "stderr",
          "text": [
            "<ipython-input-46-73542ede6352>:7: FutureWarning: Setting an item of incompatible dtype is deprecated and will raise an error in a future version of pandas. Value '[3.  4.  2.5]' has dtype incompatible with int64, please explicitly cast to a compatible dtype first.\n",
            "  s1[s1 > 20] = s1[s1 > 20] / 10\n"
          ]
        }
      ]
    },
    {
      "cell_type": "markdown",
      "source": [
        "TASK_2B (7-Cİ SUAL) ((1, 2), (3, 4)) listindən/vectorundan df1 adlı dataframe yaradın"
      ],
      "metadata": {
        "id": "q0D25QWpoiHT"
      }
    },
    {
      "cell_type": "code",
      "source": [
        "import pandas as pd\n",
        "\n",
        "# Tuple-lardan DataFrame yaratmaq\n",
        "data = ((1, 2), (3, 4))\n",
        "\n",
        "# DataFrame-ə çevirmək\n",
        "df1 = pd.DataFrame(data, columns=['Column 1', 'Column 2'])\n",
        "\n",
        "print(df1)\n"
      ],
      "metadata": {
        "colab": {
          "base_uri": "https://localhost:8080/"
        },
        "id": "m0g76pHVomiT",
        "outputId": "0548e050-1e4d-4e05-8874-3ca9ede687b8"
      },
      "execution_count": 47,
      "outputs": [
        {
          "output_type": "stream",
          "name": "stdout",
          "text": [
            "   Column 1  Column 2\n",
            "0         1         2\n",
            "1         3         4\n"
          ]
        }
      ]
    },
    {
      "cell_type": "markdown",
      "source": [
        "TASK_2B (8-Cİ SUAL) df1-ə ('r1', 'r2') sətir və ('c1', 'c2') sütun adlarını təyin edin"
      ],
      "metadata": {
        "id": "UaaDJQGNopDq"
      }
    },
    {
      "cell_type": "code",
      "source": [
        "import pandas as pd\n",
        "\n",
        "# Tuple-lardan DataFrame yaratmaq\n",
        "data = ((1, 2), (3, 4))\n",
        "\n",
        "# DataFrame-ə çevirmək\n",
        "df1 = pd.DataFrame(data, columns=['Column 1', 'Column 2'])\n",
        "\n",
        "# Sətir və sütun adlarını təyin edirik\n",
        "df1.index = ['r1', 'r2']  # Sətir adlarını təyin etdik\n",
        "df1.columns = ['c1', 'c2']  # Sütun adlarını təyin etdik\n",
        "\n",
        "# Nəticəni çap edirik\n",
        "print(df1)\n"
      ],
      "metadata": {
        "colab": {
          "base_uri": "https://localhost:8080/"
        },
        "id": "1z-cPVaEo8Oy",
        "outputId": "47e20188-1ae9-4193-b2fb-e7604f95d13b"
      },
      "execution_count": 48,
      "outputs": [
        {
          "output_type": "stream",
          "name": "stdout",
          "text": [
            "    c1  c2\n",
            "r1   1   2\n",
            "r2   3   4\n"
          ]
        }
      ]
    },
    {
      "cell_type": "markdown",
      "source": [
        "TASK_2B (9-CU SUAL) Python: {'A': [1, 2], 'B': [3, 4]} dictionary-dən df2 yaradın\n",
        "\n"
      ],
      "metadata": {
        "id": "wK_j20IDo_1S"
      }
    },
    {
      "cell_type": "code",
      "source": [
        "import pandas as pd\n",
        "\n",
        "# Dictionary\n",
        "data = {'A': [1, 2], 'B': [3, 4]}\n",
        "\n",
        "# Dictionary-dən DataFrame yaratmaq\n",
        "df2 = pd.DataFrame(data)\n",
        "\n",
        "# DataFrame-i çap edirik\n",
        "print(df2)\n"
      ],
      "metadata": {
        "colab": {
          "base_uri": "https://localhost:8080/"
        },
        "id": "qaWEtIi6pJjL",
        "outputId": "dbaaa199-e170-4ccf-c987-7f39f8d62739"
      },
      "execution_count": 49,
      "outputs": [
        {
          "output_type": "stream",
          "name": "stdout",
          "text": [
            "   A  B\n",
            "0  1  3\n",
            "1  2  4\n"
          ]
        }
      ]
    },
    {
      "cell_type": "markdown",
      "source": [
        "TASK_2B (10-CU SUAL) df2-də 'A' sütunu 1-dən böyük olan sətirləri seçin"
      ],
      "metadata": {
        "id": "59xTAS1spLZa"
      }
    },
    {
      "cell_type": "code",
      "source": [
        "import pandas as pd\n",
        "\n",
        "# Dictionary-dən DataFrame yaratmaq\n",
        "data = {'A': [1, 2], 'B': [3, 4]}\n",
        "df2 = pd.DataFrame(data)\n",
        "\n",
        "# 'A' sütunu 1-dən böyük olan sətirləri seçirik\n",
        "filtered_df = df2[df2['A'] > 1]\n",
        "\n",
        "# Nəticəni çap edirik\n",
        "print(filtered_df)\n"
      ],
      "metadata": {
        "colab": {
          "base_uri": "https://localhost:8080/"
        },
        "id": "8_KdXX0XpOii",
        "outputId": "47e80938-aa5b-4313-cd40-ee97e48b83b5"
      },
      "execution_count": 50,
      "outputs": [
        {
          "output_type": "stream",
          "name": "stdout",
          "text": [
            "   A  B\n",
            "1  2  4\n"
          ]
        }
      ]
    }
  ]
}