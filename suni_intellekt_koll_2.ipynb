{
  "nbformat": 4,
  "nbformat_minor": 0,
  "metadata": {
    "colab": {
      "provenance": [],
      "include_colab_link": true
    },
    "kernelspec": {
      "name": "python3",
      "display_name": "Python 3"
    },
    "language_info": {
      "name": "python"
    }
  },
  "cells": [
    {
      "cell_type": "markdown",
      "metadata": {
        "id": "view-in-github",
        "colab_type": "text"
      },
      "source": [
        "<a href=\"https://colab.research.google.com/github/elvirjafarov/Suni_intellekt/blob/main/suni_intellekt_koll_2.ipynb\" target=\"_parent\"><img src=\"https://colab.research.google.com/assets/colab-badge.svg\" alt=\"Open In Colab\"/></a>"
      ]
    },
    {
      "cell_type": "code",
      "execution_count": null,
      "metadata": {
        "colab": {
          "base_uri": "https://localhost:8080/"
        },
        "id": "mhBH6dr62XRL",
        "outputId": "e621cd19-77ce-402f-9173-312f3494d1b2"
      },
      "outputs": [
        {
          "output_type": "stream",
          "name": "stdout",
          "text": [
            "x dəyərini daxil edin: 5\n",
            "müsbət\n"
          ]
        }
      ],
      "source": [
        "#1) x dəyişəni verilmişdir. Əgər x > 0 olarsa \"müsbət\", x < 0 olarsa \"mənfi\", bərabərdirsə \"sıfır\" çap etsin.\n",
        "x = int(input(\"x dəyərini daxil edin: \"))\n",
        "if x > 0:\n",
        "    print(\"müsbət\")\n",
        "elif x < 0:\n",
        "    print(\"mənfi\")\n",
        "else:\n",
        "    print(\"sıfır\")"
      ]
    },
    {
      "cell_type": "code",
      "source": [
        "#2) n rəqəmi cütdürsə \"cüt\", təkdirsə \"tək\" çap etsin.\n",
        "n = int(input(\"n dəyərini daxil edin: \"))\n",
        "if n % 2 == 0:\n",
        "    print(\"cüt\")\n",
        "else:\n",
        "    print(\"tək\")"
      ],
      "metadata": {
        "colab": {
          "base_uri": "https://localhost:8080/"
        },
        "id": "sQ29Cg5A20LB",
        "outputId": "b6e845f5-5044-4839-d6b7-7a1f719945c7"
      },
      "execution_count": null,
      "outputs": [
        {
          "output_type": "stream",
          "name": "stdout",
          "text": [
            "n dəyərini daxil edin: 5\n",
            "tək\n"
          ]
        }
      ]
    },
    {
      "cell_type": "code",
      "source": [
        "#3) a, b, c rəqəmləri verilmişdir. Ən böyük rəqəmi çap etsin.\n"
      ],
      "metadata": {
        "id": "Og_wmAID3EBA"
      },
      "execution_count": null,
      "outputs": []
    },
    {
      "cell_type": "code",
      "source": [
        "#4) day dəyişəni 1-7 arası rəqəmdir. Müvafiq həftə gününü (1 = \"Bazar ertəsi\", ..., 7 = \"Bazar\") çap etsin, əks halda \"Yanlış gün\" yazsın.\n",
        "day = int(input(\"Gün rəqəmini daxil edin (1-7): \"))\n",
        "week_days = {1: \"Bazar ertəsi\", 2: \"Çərşənbə axşamı\", 3: \"Çərşənbə\", 4: \"Cümə axşamı\", 5: \"Cümə\", 6: \"Şənbə\", 7: \"Bazar\"}\n",
        "print(week_days.get(day, \"Yanlış gün\"))"
      ],
      "metadata": {
        "colab": {
          "base_uri": "https://localhost:8080/"
        },
        "id": "Wtj6jSxB3NkR",
        "outputId": "337dc79f-d65a-494c-be85-89eb13bff047"
      },
      "execution_count": null,
      "outputs": [
        {
          "output_type": "stream",
          "name": "stdout",
          "text": [
            "Gün rəqəmini daxil edin (1-7): 3\n",
            "Çərşənbə\n"
          ]
        }
      ]
    },
    {
      "cell_type": "code",
      "source": [
        "#5) temp dəyişəni temperaturdur. Əgər temp < 0 olarsa \"soyuq\", 0-20 arası olarsa \"normal\", 20-dən böyükdürsə \"isti\" çap etsin.\n",
        "temp = int(input(\"Temperaturu daxil edin: \"))\n",
        "if temp < 0:\n",
        "    print(\"soyuq\")\n",
        "elif temp <= 20:\n",
        "    print(\"normal\")\n",
        "else:\n",
        "    print(\"isti\")"
      ],
      "metadata": {
        "colab": {
          "base_uri": "https://localhost:8080/"
        },
        "id": "OBg_3Pac3kBR",
        "outputId": "d4bf15f4-9dff-4d93-b2e8-15c617852201"
      },
      "execution_count": null,
      "outputs": [
        {
          "output_type": "stream",
          "name": "stdout",
          "text": [
            "Temperaturu daxil edin: 45\n",
            "isti\n"
          ]
        }
      ]
    },
    {
      "cell_type": "code",
      "source": [
        "#6) password adlı string verilmişdir. Əgər uzunluğu 8-dən kiçikdirsə \"qısa\", 8-12 arasıdırsa \"orta\", 12-dən böyükdürsə \"uzun\" çap etsin.\n",
        "password = input(\"Parolu daxil edin: \")\n",
        "if len(password) < 8:\n",
        "    print(\"qısa\")\n",
        "elif len(password) <= 12:\n",
        "    print(\"orta\")\n",
        "else:\n",
        "    print(\"uzun\")"
      ],
      "metadata": {
        "colab": {
          "base_uri": "https://localhost:8080/"
        },
        "id": "Ur6bYxVJ3vmG",
        "outputId": "4a6bfa7c-b3bb-4159-a723-f9d2e5b2d610"
      },
      "execution_count": null,
      "outputs": [
        {
          "output_type": "stream",
          "name": "stdout",
          "text": [
            "Parolu daxil edin: 67\n",
            "qısa\n"
          ]
        }
      ]
    },
    {
      "cell_type": "code",
      "source": [
        "#7) x rəqəmi həm 3-ə, həm də 5-ə bölünürsə \"3 və 5\", yalnız 3-ə bölünürsə \"3\", yalnız 5-ə bölünürsə \"5\", heç birinə bölünmürsə \"heç biri\" çap etsin.\n",
        "x = int(input(\"x dəyərini daxil edin: \"))\n",
        "if x % 3 == 0 and x % 5 == 0:\n",
        "    print(\"3 və 5\")\n",
        "elif x % 3 == 0:\n",
        "    print(\"3\")\n",
        "elif x % 5 == 0:\n",
        "    print(\"5\")\n",
        "else:\n",
        "    print(\"heç biri\")"
      ],
      "metadata": {
        "colab": {
          "base_uri": "https://localhost:8080/"
        },
        "id": "INd--m1F33gC",
        "outputId": "2d388a64-2ad8-4431-90f2-9b1b7643c868"
      },
      "execution_count": null,
      "outputs": [
        {
          "output_type": "stream",
          "name": "stdout",
          "text": [
            "x dəyərini daxil edin: 54\n",
            "3\n"
          ]
        }
      ]
    },
    {
      "cell_type": "code",
      "source": [
        "# 8. 0-dan 20-yə qədər cüt rəqəmləri çap et\n",
        "for i in range(0, 21, 2):\n",
        "    print(i)"
      ],
      "metadata": {
        "colab": {
          "base_uri": "https://localhost:8080/"
        },
        "id": "mjSSVpNc4BRN",
        "outputId": "fa68e159-0693-46b7-e65b-fd817b2eff11"
      },
      "execution_count": null,
      "outputs": [
        {
          "output_type": "stream",
          "name": "stdout",
          "text": [
            "0\n",
            "2\n",
            "4\n",
            "6\n",
            "8\n",
            "10\n",
            "12\n",
            "14\n",
            "16\n",
            "18\n",
            "20\n"
          ]
        }
      ]
    },
    {
      "cell_type": "code",
      "source": [
        "#9) \"Bağda ərik var idi …\" stringinin hər elementini for ilə ayrı-ayrılıqda çap edin.\n",
        "text = \"Bağda ərik var idi...\"\n",
        "for char in text:\n",
        "    print(char)"
      ],
      "metadata": {
        "colab": {
          "base_uri": "https://localhost:8080/"
        },
        "id": "ss5t8-bW4IEN",
        "outputId": "99f6a44b-46d7-4c5d-d162-3d7a029163a6"
      },
      "execution_count": null,
      "outputs": [
        {
          "output_type": "stream",
          "name": "stdout",
          "text": [
            "B\n",
            "a\n",
            "ğ\n",
            "d\n",
            "a\n",
            " \n",
            "ə\n",
            "r\n",
            "i\n",
            "k\n",
            " \n",
            "v\n",
            "a\n",
            "r\n",
            " \n",
            "i\n",
            "d\n",
            "i\n",
            ".\n",
            ".\n",
            ".\n"
          ]
        }
      ]
    },
    {
      "cell_type": "code",
      "source": [
        "# 10. 1-dən 10-a qədər rəqəmləri çap et, amma 3 xaric\n",
        "for i in range(1, 11):\n",
        "    if i == 3:\n",
        "        continue\n",
        "    print(i)"
      ],
      "metadata": {
        "colab": {
          "base_uri": "https://localhost:8080/"
        },
        "id": "nQAkmMAJ4PbU",
        "outputId": "fd411f79-5a67-4ba8-f1ab-3c2a38924b03"
      },
      "execution_count": null,
      "outputs": [
        {
          "output_type": "stream",
          "name": "stdout",
          "text": [
            "1\n",
            "2\n",
            "4\n",
            "5\n",
            "6\n",
            "7\n",
            "8\n",
            "9\n",
            "10\n"
          ]
        }
      ]
    },
    {
      "cell_type": "code",
      "source": [
        "#11) 1-dən başlayaraq ilk 5-ə bölünən rəqəmi tapın və while ilə çap edin (break istifadə edin).\n",
        "i = 1\n",
        "while True:\n",
        "    if i % 5 == 0:\n",
        "        print(i)\n",
        "        break\n",
        "    i += 1"
      ],
      "metadata": {
        "colab": {
          "base_uri": "https://localhost:8080/"
        },
        "id": "iYSEWIZx4Ug9",
        "outputId": "4166dc87-0a41-4004-f812-52bd06ab4bb4"
      },
      "execution_count": null,
      "outputs": [
        {
          "output_type": "stream",
          "name": "stdout",
          "text": [
            "5\n"
          ]
        }
      ]
    },
    {
      "cell_type": "code",
      "source": [
        "#12) (1, 3, 5, 7, 9) listində/vectorunda 5-i tapın və indeksini çap edin (break istifadə edin).\n",
        "numbers = [1, 3, 5, 7, 9]\n",
        "for index, num in enumerate(numbers):\n",
        "    if num == 5:\n",
        "        print(\"5-in indeksi:\", index)\n",
        "        break"
      ],
      "metadata": {
        "colab": {
          "base_uri": "https://localhost:8080/"
        },
        "id": "ZdxXrBn44XpL",
        "outputId": "6a00ac84-d0c0-456f-95da-fede4144acbd"
      },
      "execution_count": null,
      "outputs": [
        {
          "output_type": "stream",
          "name": "stdout",
          "text": [
            "5-in indeksi: 2\n"
          ]
        }
      ]
    },
    {
      "cell_type": "code",
      "source": [
        "# 1) salam adlı funksiya yaradın ki, heç bir arqument almadan sadəcə \"Salam, Dünya!\" çap etsin.\n",
        "def salam():\n",
        "    print(\"Salam, Dünya!\")"
      ],
      "metadata": {
        "id": "Fp7S8bfr4l09"
      },
      "execution_count": null,
      "outputs": []
    },
    {
      "cell_type": "code",
      "source": [
        "# 2) kub_hesabla adlı funksiya yaradın ki, bir rəqəm (n) qəbul etsin və onun kubunu qaytarsın.\n",
        "def kub_hesabla(n):\n",
        "    return n ** 3"
      ],
      "metadata": {
        "id": "a6yvdY6D5HkC"
      },
      "execution_count": null,
      "outputs": []
    },
    {
      "cell_type": "code",
      "source": [
        "# 3) birlesdir adlı funksiya yaradın ki, iki söz qəbul etsin və onları boşluqla birləşdirib qaytarsın.\n",
        "def birlesdir(soz1, soz2):\n",
        "    return f\"{soz1} {soz2}\""
      ],
      "metadata": {
        "id": "3yqQOW3k5KQ4"
      },
      "execution_count": null,
      "outputs": []
    },
    {
      "cell_type": "code",
      "source": [
        "# 4) cap_et adlı funksiya yaradın ki, bir listi arqument olaraq alsın və listin hər elementini for ilə çap etsin.\n",
        "def cap_et(lst):\n",
        "    for element in lst:\n",
        "        print(element)"
      ],
      "metadata": {
        "id": "TgWzw5qQ5NNE"
      },
      "execution_count": null,
      "outputs": []
    },
    {
      "cell_type": "code",
      "source": [
        "# 5) toplam adlı funksiya yaradın ki, istənilən sayda rəqəmi (*args) qəbul edib onların cəmini qaytarsın.\n",
        "def toplam(*args):\n",
        "    return sum(args)"
      ],
      "metadata": {
        "id": "X_bV5rZc5QNy"
      },
      "execution_count": null,
      "outputs": []
    },
    {
      "cell_type": "code",
      "source": [
        "# 6) ortalama adlı funksiya yaradın ki, istənilən sayda rəqəmi (*args) qəbul edib onların ortalamasını qaytarsın (əgər heç bir rəqəm yoxdursa, \"Rəqəm yoxdur\" qaytarsın).\n",
        "def ortalama(*args):\n",
        "    if len(args) == 0:\n",
        "        return \"Rəqəm yoxdur\"\n",
        "    return sum(args) / len(args)"
      ],
      "metadata": {
        "id": "ywpqWdmt5_E5"
      },
      "execution_count": null,
      "outputs": []
    },
    {
      "cell_type": "code",
      "source": [
        "# 7) adlar_rəqəmlər adlı funksiya yaradın ki, istənilən sayda ad və rəqəm cütünü (**kwargs) qəbul edib hər cütü çap etsin (məsələn, \"ad: bir, rəqəm: 1\").\n",
        "def adlar_rəqəmlər(**kwargs):\n",
        "    for ad, reqem in kwargs.items():\n",
        "        print(f\"ad: {ad}, rəqəm: {reqem}\")"
      ],
      "metadata": {
        "id": "EOQ2vl786FVd"
      },
      "execution_count": null,
      "outputs": []
    },
    {
      "cell_type": "code",
      "source": [
        "# 8) tip_yoxla adlı funksiya yaradın ki, bir dəyər qəbul edib onun tipini yoxlasın: \"mətn\", \"rəqəm\", \"başqa\" çap etsin.\n",
        "def tip_yoxla(deyer):\n",
        "    if isinstance(deyer, str):\n",
        "        print(\"mətn\")\n",
        "    elif isinstance(deyer, (int, float)):\n",
        "        print(\"rəqəm\")\n",
        "    else:\n",
        "        print(\"başqa\")"
      ],
      "metadata": {
        "id": "leMZ3Woz6KLn"
      },
      "execution_count": null,
      "outputs": []
    },
    {
      "cell_type": "code",
      "source": [
        "# 9) yas_kateqoriya adlı funksiya yaradın ki, input()/readline() ilə yaş soruşsun, 18-dən aşağıysa \"Gənc\", yuxarıdrsa \"Yetkin\" çap etsin.\n",
        "def yas_kateqoriya():\n",
        "    yas = int(input(\"Yaşınızı daxil edin: \"))\n",
        "    if yas < 18:\n",
        "        print(\"Gənc\")\n",
        "    else:\n",
        "        print(\"Yetkin\")"
      ],
      "metadata": {
        "id": "PL6ZEcZK6MeK"
      },
      "execution_count": null,
      "outputs": []
    },
    {
      "cell_type": "code",
      "source": [
        "# 10) soz_uzunluq adlı funksiya yaradın ki, input()/readline() ilə istifadəçidən söz alsın və onun uzunluğunu çap etsin.\n",
        "def soz_uzunluq():\n",
        "    soz = input(\"Bir söz daxil edin: \")\n",
        "    print(len(soz))"
      ],
      "metadata": {
        "id": "HEBQR2XV6OxK"
      },
      "execution_count": null,
      "outputs": []
    },
    {
      "cell_type": "code",
      "source": [],
      "metadata": {
        "id": "tJIHAa7X6Q1G"
      },
      "execution_count": null,
      "outputs": []
    }
  ]
}